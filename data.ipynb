{
 "cells": [
  {
   "cell_type": "code",
   "execution_count": 3,
   "metadata": {},
   "outputs": [],
   "source": [
    "import pandas as pd\n",
    "import os"
   ]
  },
  {
   "cell_type": "code",
   "execution_count": 2,
   "metadata": {},
   "outputs": [
    {
     "data": {
      "text/html": [
       "<div>\n",
       "<style scoped>\n",
       "    .dataframe tbody tr th:only-of-type {\n",
       "        vertical-align: middle;\n",
       "    }\n",
       "\n",
       "    .dataframe tbody tr th {\n",
       "        vertical-align: top;\n",
       "    }\n",
       "\n",
       "    .dataframe thead th {\n",
       "        text-align: right;\n",
       "    }\n",
       "</style>\n",
       "<table border=\"1\" class=\"dataframe\">\n",
       "  <thead>\n",
       "    <tr style=\"text-align: right;\">\n",
       "      <th></th>\n",
       "      <th>path</th>\n",
       "      <th>accents</th>\n",
       "      <th>sentence</th>\n",
       "    </tr>\n",
       "  </thead>\n",
       "  <tbody>\n",
       "    <tr>\n",
       "      <th>0</th>\n",
       "      <td>common_voice_en_37476269.mp3</td>\n",
       "      <td>United States English</td>\n",
       "      <td>This led to both the Red Terror and the White ...</td>\n",
       "    </tr>\n",
       "    <tr>\n",
       "      <th>1</th>\n",
       "      <td>common_voice_en_37740889.mp3</td>\n",
       "      <td>England English</td>\n",
       "      <td>Paper wine labels have long been collected</td>\n",
       "    </tr>\n",
       "    <tr>\n",
       "      <th>2</th>\n",
       "      <td>common_voice_en_37607972.mp3</td>\n",
       "      <td>United States English</td>\n",
       "      <td>The number of chime sets matches the number of...</td>\n",
       "    </tr>\n",
       "    <tr>\n",
       "      <th>3</th>\n",
       "      <td>common_voice_en_37437567.mp3</td>\n",
       "      <td>United States English</td>\n",
       "      <td>The Atbara flows only while there is rain in E...</td>\n",
       "    </tr>\n",
       "    <tr>\n",
       "      <th>4</th>\n",
       "      <td>common_voice_en_37288403.mp3</td>\n",
       "      <td>United States English</td>\n",
       "      <td>Katsande and her son were accused of voter int...</td>\n",
       "    </tr>\n",
       "  </tbody>\n",
       "</table>\n",
       "</div>"
      ],
      "text/plain": [
       "                           path                accents  \\\n",
       "0  common_voice_en_37476269.mp3  United States English   \n",
       "1  common_voice_en_37740889.mp3        England English   \n",
       "2  common_voice_en_37607972.mp3  United States English   \n",
       "3  common_voice_en_37437567.mp3  United States English   \n",
       "4  common_voice_en_37288403.mp3  United States English   \n",
       "\n",
       "                                            sentence  \n",
       "0  This led to both the Red Terror and the White ...  \n",
       "1         Paper wine labels have long been collected  \n",
       "2  The number of chime sets matches the number of...  \n",
       "3  The Atbara flows only while there is rain in E...  \n",
       "4  Katsande and her son were accused of voter int...  "
      ]
     },
     "execution_count": 2,
     "metadata": {},
     "output_type": "execute_result"
    }
   ],
   "source": [
    "df = pd.read_csv('files/validated_top10_cleaned.csv')\n",
    "df.head()"
   ]
  },
  {
   "cell_type": "code",
   "execution_count": 4,
   "metadata": {},
   "outputs": [
    {
     "data": {
      "text/html": [
       "<div>\n",
       "<style scoped>\n",
       "    .dataframe tbody tr th:only-of-type {\n",
       "        vertical-align: middle;\n",
       "    }\n",
       "\n",
       "    .dataframe tbody tr th {\n",
       "        vertical-align: top;\n",
       "    }\n",
       "\n",
       "    .dataframe thead th {\n",
       "        text-align: right;\n",
       "    }\n",
       "</style>\n",
       "<table border=\"1\" class=\"dataframe\">\n",
       "  <thead>\n",
       "    <tr style=\"text-align: right;\">\n",
       "      <th></th>\n",
       "      <th>path</th>\n",
       "      <th>accents</th>\n",
       "      <th>sentence</th>\n",
       "    </tr>\n",
       "  </thead>\n",
       "  <tbody>\n",
       "    <tr>\n",
       "      <th>0</th>\n",
       "      <td>common_voice_en_37476269.mp3</td>\n",
       "      <td>United States English</td>\n",
       "      <td>This led to both the Red Terror and the White ...</td>\n",
       "    </tr>\n",
       "    <tr>\n",
       "      <th>1</th>\n",
       "      <td>common_voice_en_37740889.mp3</td>\n",
       "      <td>England English</td>\n",
       "      <td>Paper wine labels have long been collected</td>\n",
       "    </tr>\n",
       "    <tr>\n",
       "      <th>2</th>\n",
       "      <td>common_voice_en_37607972.mp3</td>\n",
       "      <td>United States English</td>\n",
       "      <td>The number of chime sets matches the number of...</td>\n",
       "    </tr>\n",
       "    <tr>\n",
       "      <th>3</th>\n",
       "      <td>common_voice_en_37437567.mp3</td>\n",
       "      <td>United States English</td>\n",
       "      <td>The Atbara flows only while there is rain in E...</td>\n",
       "    </tr>\n",
       "    <tr>\n",
       "      <th>4</th>\n",
       "      <td>common_voice_en_37288403.mp3</td>\n",
       "      <td>United States English</td>\n",
       "      <td>Katsande and her son were accused of voter int...</td>\n",
       "    </tr>\n",
       "  </tbody>\n",
       "</table>\n",
       "</div>"
      ],
      "text/plain": [
       "                           path                accents  \\\n",
       "0  common_voice_en_37476269.mp3  United States English   \n",
       "1  common_voice_en_37740889.mp3        England English   \n",
       "2  common_voice_en_37607972.mp3  United States English   \n",
       "3  common_voice_en_37437567.mp3  United States English   \n",
       "4  common_voice_en_37288403.mp3  United States English   \n",
       "\n",
       "                                            sentence  \n",
       "0  This led to both the Red Terror and the White ...  \n",
       "1         Paper wine labels have long been collected  \n",
       "2  The number of chime sets matches the number of...  \n",
       "3  The Atbara flows only while there is rain in E...  \n",
       "4  Katsande and her son were accused of voter int...  "
      ]
     },
     "execution_count": 4,
     "metadata": {},
     "output_type": "execute_result"
    }
   ],
   "source": [
    "def remove_extension(filename):\n",
    "    return os.path.splitext(filename)[0]\n",
    "\n",
    "folder_path = 'files/wav'\n",
    "filenames_in_folder = [remove_extension(f) for f in os.listdir(folder_path)]\n",
    "\n",
    "new_df = df[df['path'].apply(remove_extension).isin(filenames_in_folder)]\n",
    "\n",
    "new_df.head()"
   ]
  },
  {
   "cell_type": "code",
   "execution_count": 5,
   "metadata": {},
   "outputs": [
    {
     "data": {
      "text/plain": [
       "((1949, 3), (3299, 3))"
      ]
     },
     "execution_count": 5,
     "metadata": {},
     "output_type": "execute_result"
    }
   ],
   "source": [
    "new_df.shape, df.shape"
   ]
  },
  {
   "cell_type": "code",
   "execution_count": 6,
   "metadata": {},
   "outputs": [],
   "source": [
    "new_df.to_csv('files/wavs1.csv', index=False)"
   ]
  },
  {
   "cell_type": "code",
   "execution_count": 8,
   "metadata": {},
   "outputs": [],
   "source": [
    "# check if all the files in the 'path' column of new_df exists\n",
    "for filename in new_df['path']:\n",
    "    if not os.path.exists(f'files/wav/{filename.split(\".\")[0]}.wav'):\n",
    "        print(filename)\n",
    "        break"
   ]
  },
  {
   "cell_type": "code",
   "execution_count": 9,
   "metadata": {},
   "outputs": [
    {
     "name": "stderr",
     "output_type": "stream",
     "text": [
      "/tmp/ipykernel_7032/3554628286.py:1: SettingWithCopyWarning: \n",
      "A value is trying to be set on a copy of a slice from a DataFrame.\n",
      "Try using .loc[row_indexer,col_indexer] = value instead\n",
      "\n",
      "See the caveats in the documentation: https://pandas.pydata.org/pandas-docs/stable/user_guide/indexing.html#returning-a-view-versus-a-copy\n",
      "  new_df[\"path\"] = \"files/wavs/\" + new_df[\"path\"].str.replace(\".mp3\", \".wav\")\n"
     ]
    },
    {
     "data": {
      "text/html": [
       "<div>\n",
       "<style scoped>\n",
       "    .dataframe tbody tr th:only-of-type {\n",
       "        vertical-align: middle;\n",
       "    }\n",
       "\n",
       "    .dataframe tbody tr th {\n",
       "        vertical-align: top;\n",
       "    }\n",
       "\n",
       "    .dataframe thead th {\n",
       "        text-align: right;\n",
       "    }\n",
       "</style>\n",
       "<table border=\"1\" class=\"dataframe\">\n",
       "  <thead>\n",
       "    <tr style=\"text-align: right;\">\n",
       "      <th></th>\n",
       "      <th>path</th>\n",
       "      <th>accents</th>\n",
       "      <th>sentence</th>\n",
       "    </tr>\n",
       "  </thead>\n",
       "  <tbody>\n",
       "    <tr>\n",
       "      <th>0</th>\n",
       "      <td>files/wavs/common_voice_en_37476269.wav</td>\n",
       "      <td>United States English</td>\n",
       "      <td>This led to both the Red Terror and the White ...</td>\n",
       "    </tr>\n",
       "    <tr>\n",
       "      <th>1</th>\n",
       "      <td>files/wavs/common_voice_en_37740889.wav</td>\n",
       "      <td>England English</td>\n",
       "      <td>Paper wine labels have long been collected</td>\n",
       "    </tr>\n",
       "    <tr>\n",
       "      <th>2</th>\n",
       "      <td>files/wavs/common_voice_en_37607972.wav</td>\n",
       "      <td>United States English</td>\n",
       "      <td>The number of chime sets matches the number of...</td>\n",
       "    </tr>\n",
       "    <tr>\n",
       "      <th>3</th>\n",
       "      <td>files/wavs/common_voice_en_37437567.wav</td>\n",
       "      <td>United States English</td>\n",
       "      <td>The Atbara flows only while there is rain in E...</td>\n",
       "    </tr>\n",
       "    <tr>\n",
       "      <th>4</th>\n",
       "      <td>files/wavs/common_voice_en_37288403.wav</td>\n",
       "      <td>United States English</td>\n",
       "      <td>Katsande and her son were accused of voter int...</td>\n",
       "    </tr>\n",
       "  </tbody>\n",
       "</table>\n",
       "</div>"
      ],
      "text/plain": [
       "                                      path                accents  \\\n",
       "0  files/wavs/common_voice_en_37476269.wav  United States English   \n",
       "1  files/wavs/common_voice_en_37740889.wav        England English   \n",
       "2  files/wavs/common_voice_en_37607972.wav  United States English   \n",
       "3  files/wavs/common_voice_en_37437567.wav  United States English   \n",
       "4  files/wavs/common_voice_en_37288403.wav  United States English   \n",
       "\n",
       "                                            sentence  \n",
       "0  This led to both the Red Terror and the White ...  \n",
       "1         Paper wine labels have long been collected  \n",
       "2  The number of chime sets matches the number of...  \n",
       "3  The Atbara flows only while there is rain in E...  \n",
       "4  Katsande and her son were accused of voter int...  "
      ]
     },
     "execution_count": 9,
     "metadata": {},
     "output_type": "execute_result"
    }
   ],
   "source": [
    "new_df[\"path\"] = \"files/wavs/\" + new_df[\"path\"].str.replace(\".mp3\", \".wav\")\n",
    "new_df.head()"
   ]
  },
  {
   "cell_type": "code",
   "execution_count": 10,
   "metadata": {},
   "outputs": [
    {
     "name": "stdout",
     "output_type": "stream",
     "text": [
      "files/wavs/common_voice_en_37476269.wav\n"
     ]
    }
   ],
   "source": [
    "for filename in new_df['path']:\n",
    "    if not os.path.exists(f'files/wav/{filename}.wav'):\n",
    "        print(filename)\n",
    "        break"
   ]
  }
 ],
 "metadata": {
  "kernelspec": {
   "display_name": "Python 3",
   "language": "python",
   "name": "python3"
  },
  "language_info": {
   "codemirror_mode": {
    "name": "ipython",
    "version": 3
   },
   "file_extension": ".py",
   "mimetype": "text/x-python",
   "name": "python",
   "nbconvert_exporter": "python",
   "pygments_lexer": "ipython3",
   "version": "3.11.8"
  }
 },
 "nbformat": 4,
 "nbformat_minor": 2
}
