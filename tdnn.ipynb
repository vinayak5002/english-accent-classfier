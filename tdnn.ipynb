{
 "cells": [
  {
   "cell_type": "code",
   "execution_count": 3,
   "metadata": {},
   "outputs": [
    {
     "ename": "NotADirectoryError",
     "evalue": "[Errno 20] Not a directory: 'files/wav/common_voice_en_37285574.wav'",
     "output_type": "error",
     "traceback": [
      "\u001b[0;31m---------------------------------------------------------------------------\u001b[0m",
      "\u001b[0;31mNotADirectoryError\u001b[0m                        Traceback (most recent call last)",
      "Cell \u001b[0;32mIn[3], line 26\u001b[0m\n\u001b[1;32m     23\u001b[0m     \u001b[38;5;28;01mreturn\u001b[39;00m np\u001b[38;5;241m.\u001b[39marray(data), np\u001b[38;5;241m.\u001b[39marray(labels)\n\u001b[1;32m     25\u001b[0m dataset_dir \u001b[38;5;241m=\u001b[39m \u001b[38;5;124m'\u001b[39m\u001b[38;5;124mfiles/wav/\u001b[39m\u001b[38;5;124m'\u001b[39m\n\u001b[0;32m---> 26\u001b[0m mfccs, labels \u001b[38;5;241m=\u001b[39m \u001b[43mload_data\u001b[49m\u001b[43m(\u001b[49m\u001b[43mdataset_dir\u001b[49m\u001b[43m)\u001b[49m\n\u001b[1;32m     28\u001b[0m num_classes \u001b[38;5;241m=\u001b[39m \u001b[38;5;28mlen\u001b[39m(\u001b[38;5;28msorted\u001b[39m(\u001b[38;5;28mset\u001b[39m(labels)))\n\u001b[1;32m     29\u001b[0m labels \u001b[38;5;241m=\u001b[39m tf\u001b[38;5;241m.\u001b[39mkeras\u001b[38;5;241m.\u001b[39mutils\u001b[38;5;241m.\u001b[39mto_categorical(labels, num_classes)\n",
      "Cell \u001b[0;32mIn[3], line 18\u001b[0m, in \u001b[0;36mload_data\u001b[0;34m(dataset_dir, n_mfcc)\u001b[0m\n\u001b[1;32m     16\u001b[0m \u001b[38;5;28;01mfor\u001b[39;00m accent \u001b[38;5;129;01min\u001b[39;00m accents:\n\u001b[1;32m     17\u001b[0m     accent_dir \u001b[38;5;241m=\u001b[39m os\u001b[38;5;241m.\u001b[39mpath\u001b[38;5;241m.\u001b[39mjoin(dataset_dir, accent)\n\u001b[0;32m---> 18\u001b[0m     \u001b[38;5;28;01mfor\u001b[39;00m file \u001b[38;5;129;01min\u001b[39;00m \u001b[43mos\u001b[49m\u001b[38;5;241;43m.\u001b[39;49m\u001b[43mlistdir\u001b[49m\u001b[43m(\u001b[49m\u001b[43maccent_dir\u001b[49m\u001b[43m)\u001b[49m:\n\u001b[1;32m     19\u001b[0m         file_path \u001b[38;5;241m=\u001b[39m os\u001b[38;5;241m.\u001b[39mpath\u001b[38;5;241m.\u001b[39mjoin(accent_dir, file)\n\u001b[1;32m     20\u001b[0m         mfcc \u001b[38;5;241m=\u001b[39m extract_mfcc(file_path, n_mfcc)\n",
      "\u001b[0;31mNotADirectoryError\u001b[0m: [Errno 20] Not a directory: 'files/wav/common_voice_en_37285574.wav'"
     ]
    }
   ],
   "source": [
    "import os\n",
    "import librosa\n",
    "import numpy as np\n",
    "\n",
    "import tensorflow as tf\n",
    "\n",
    "def extract_mfcc(file_path, n_mfcc=13):\n",
    "    y, sr = librosa.load(file_path, res_type='kaiser_fast')\n",
    "    mfcc = librosa.feature.mfcc(y=y, sr=sr, n_mfcc=n_mfcc)\n",
    "    return mfcc.T\n",
    "\n",
    "def load_data(dataset_dir, n_mfcc=13):\n",
    "    data = []\n",
    "    labels = []\n",
    "    accents = sorted(os.listdir(dataset_dir))\n",
    "    for accent in accents:\n",
    "        accent_dir = os.path.join(dataset_dir, accent)\n",
    "        for file in os.listdir(accent_dir):\n",
    "            file_path = os.path.join(accent_dir, file)\n",
    "            mfcc = extract_mfcc(file_path, n_mfcc)\n",
    "            data.append(mfcc)\n",
    "            labels.append(accent)\n",
    "    return np.array(data), np.array(labels)\n",
    "\n",
    "dataset_dir = 'files/wav/'\n",
    "mfccs, labels = load_data(dataset_dir)\n",
    "\n",
    "num_classes = len(sorted(set(labels)))\n",
    "labels = tf.keras.utils.to_categorical(labels, num_classes)"
   ]
  },
  {
   "cell_type": "code",
   "execution_count": null,
   "metadata": {},
   "outputs": [],
   "source": [
    "import tensorflow as tf\n",
    "\n",
    "tdnn_units = 128\n",
    "delay_length = 3\n",
    "\n",
    "def tdnn_block(inputs, activation='relu', conv_filter=3, pool_size=2):\n",
    "    x = inputs\n",
    "    x = tf.keras.layers.ZeroPadding2D(padding=((1, 1)))(x)\n",
    "    x = tf.keras.layers.Conv2D(filters=tdnn_units, kernel_size=(1, conv_filter), padding='valid', activation=activation)(x)\n",
    "    x = tf.keras.layers.BatchNormalization()(x)\n",
    "    x = tf.keras.layers.ZeroPadding2D(padding=((1, 1)))(x)\n",
    "    x = tf.keras.layers.Conv2D(filters=tdnn_units, kernel_size=(conv_filter, 1), padding='valid', activation=activation)(x)\n",
    "    x = tf.keras.layers.BatchNormalization()(x)\n",
    "    x = tf.keras.layers.MaxPooling2D(pool_size=(pool_size, 1), strides=(pool_size, 1))(x)\n",
    "    x = tf.keras.layers.ZeroPadding2D(padding=((0, 1)))(x)\n",
    "    x = tf.keras.layers.Conv2D(filters=tdnn_units, kernel_size=(1, delay_length), padding='valid', activation=activation)(x)\n",
    "    x = tf.keras.layers.BatchNormalization()(x)\n",
    "    return x\n",
    "\n",
    "def tdnn(input_shape, num_classes):\n",
    "    input_layer = tf.keras.layers.Input(shape=input_shape)\n",
    "    x = tf.keras.layers.Reshape((1, num_mfcc_features, 1))(input_layer)\n",
    "    x = tdnn_block(x)\n",
    "    x = tdnn_block(x)\n",
    "    x = tdnn_block(x)\n",
    "    x = tf.keras.layers.Flatten()(x)\n",
    "    x = tf.keras.layers.Dense(units=tdnn_units, activation=activation)(x)\n",
    "    x = tf.keras.layers.Dropout(0.5)(x)\n",
    "    output_layer = tf.keras.layers.Dense(units=num_classes, activation='softmax')(x)\n",
    "    model = tf.keras.models.Model(inputs=input_layer, outputs=output_layer)\n",
    "    return model"
   ]
  }
 ],
 "metadata": {
  "kernelspec": {
   "display_name": "Python 3",
   "language": "python",
   "name": "python3"
  },
  "language_info": {
   "codemirror_mode": {
    "name": "ipython",
    "version": 3
   },
   "file_extension": ".py",
   "mimetype": "text/x-python",
   "name": "python",
   "nbconvert_exporter": "python",
   "pygments_lexer": "ipython3",
   "version": "3.11.8"
  }
 },
 "nbformat": 4,
 "nbformat_minor": 2
}
